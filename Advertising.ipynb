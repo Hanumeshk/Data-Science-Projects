{
 "cells": [
  {
   "cell_type": "markdown",
   "id": "afb3aca3",
   "metadata": {},
   "source": [
    "# Advertising Sales Channel Prediction\n",
    "#  Problem Statement:\n",
    "*                     Sales Channel Prediction Case Study  \n",
    "\n",
    "* When a company enters a market, the distribution strategy and channel it uses are keys to its success in the market, as well as market know-how and customer knowledge and understanding. Because an effective distribution strategy under efficient supply-chain management opens doors for attaining competitive advantage and strong brand equity in the market, it is a component of the marketing mix that cannot be ignored . \n",
    "\n",
    "* The distribution strategy and the channel design have to be right the first time. \n",
    "* The case study of Sales channel includes the detailed study of TV, radio and newspaper channel. The predict the total sales generated from all the sales channel.  \n",
    "\n"
   ]
  },
  {
   "cell_type": "markdown",
   "id": "e4374449",
   "metadata": {},
   "source": [
    "# Importing necessary libraries"
   ]
  },
  {
   "cell_type": "code",
   "execution_count": 1,
   "id": "d19328db",
   "metadata": {},
   "outputs": [],
   "source": [
    "import pandas as pd\n",
    "import numpy as np\n",
    "import seaborn as sns\n",
    "import matplotlib.pyplot as plt\n",
    "from scipy.stats import zscore\n",
    "\n",
    "\n",
    "#Preprocessing\n",
    "from sklearn.preprocessing import StandardScaler,MinMaxScaler,PowerTransformer,power_transform\n",
    "from sklearn.preprocessing import OrdinalEncoder,LabelEncoder,OneHotEncoder\n",
    "from sklearn.decomposition import PCA\n",
    "\n",
    "from sklearn.linear_model import LinearRegression\n",
    "from sklearn.metrics import accuracy_score,r2_score,mean_squared_error,mean_absolute_error\n",
    "\n",
    "\n",
    "from sklearn.model_selection import train_test_split,GridSearchCV,RandomizedSearchCV\n",
    "\n",
    "import warnings\n",
    "warnings.filterwarnings('ignore')"
   ]
  },
  {
   "cell_type": "markdown",
   "id": "ad012668",
   "metadata": {},
   "source": [
    "# Loading Dataset"
   ]
  },
  {
   "cell_type": "code",
   "execution_count": 2,
   "id": "b0d6a953",
   "metadata": {},
   "outputs": [
    {
     "data": {
      "text/html": [
       "<div>\n",
       "<style scoped>\n",
       "    .dataframe tbody tr th:only-of-type {\n",
       "        vertical-align: middle;\n",
       "    }\n",
       "\n",
       "    .dataframe tbody tr th {\n",
       "        vertical-align: top;\n",
       "    }\n",
       "\n",
       "    .dataframe thead th {\n",
       "        text-align: right;\n",
       "    }\n",
       "</style>\n",
       "<table border=\"1\" class=\"dataframe\">\n",
       "  <thead>\n",
       "    <tr style=\"text-align: right;\">\n",
       "      <th></th>\n",
       "      <th>Unnamed: 0</th>\n",
       "      <th>TV</th>\n",
       "      <th>radio</th>\n",
       "      <th>newspaper</th>\n",
       "      <th>sales</th>\n",
       "    </tr>\n",
       "  </thead>\n",
       "  <tbody>\n",
       "    <tr>\n",
       "      <th>0</th>\n",
       "      <td>1</td>\n",
       "      <td>230.1</td>\n",
       "      <td>37.8</td>\n",
       "      <td>69.2</td>\n",
       "      <td>22.1</td>\n",
       "    </tr>\n",
       "    <tr>\n",
       "      <th>1</th>\n",
       "      <td>2</td>\n",
       "      <td>44.5</td>\n",
       "      <td>39.3</td>\n",
       "      <td>45.1</td>\n",
       "      <td>10.4</td>\n",
       "    </tr>\n",
       "    <tr>\n",
       "      <th>2</th>\n",
       "      <td>3</td>\n",
       "      <td>17.2</td>\n",
       "      <td>45.9</td>\n",
       "      <td>69.3</td>\n",
       "      <td>9.3</td>\n",
       "    </tr>\n",
       "    <tr>\n",
       "      <th>3</th>\n",
       "      <td>4</td>\n",
       "      <td>151.5</td>\n",
       "      <td>41.3</td>\n",
       "      <td>58.5</td>\n",
       "      <td>18.5</td>\n",
       "    </tr>\n",
       "    <tr>\n",
       "      <th>4</th>\n",
       "      <td>5</td>\n",
       "      <td>180.8</td>\n",
       "      <td>10.8</td>\n",
       "      <td>58.4</td>\n",
       "      <td>12.9</td>\n",
       "    </tr>\n",
       "  </tbody>\n",
       "</table>\n",
       "</div>"
      ],
      "text/plain": [
       "   Unnamed: 0     TV  radio  newspaper  sales\n",
       "0           1  230.1   37.8       69.2   22.1\n",
       "1           2   44.5   39.3       45.1   10.4\n",
       "2           3   17.2   45.9       69.3    9.3\n",
       "3           4  151.5   41.3       58.5   18.5\n",
       "4           5  180.8   10.8       58.4   12.9"
      ]
     },
     "execution_count": 2,
     "metadata": {},
     "output_type": "execute_result"
    }
   ],
   "source": [
    "df=pd.read_csv('Advertising.csv')     #Importing data from of csv file\n",
    "df.head()   #To show first 5 rows of data"
   ]
  },
  {
   "cell_type": "markdown",
   "id": "9f006579",
   "metadata": {},
   "source": [
    "# Exploratory Data Analysis(EDA)"
   ]
  },
  {
   "cell_type": "code",
   "execution_count": 3,
   "id": "93f1cdee",
   "metadata": {},
   "outputs": [
    {
     "data": {
      "text/html": [
       "<div>\n",
       "<style scoped>\n",
       "    .dataframe tbody tr th:only-of-type {\n",
       "        vertical-align: middle;\n",
       "    }\n",
       "\n",
       "    .dataframe tbody tr th {\n",
       "        vertical-align: top;\n",
       "    }\n",
       "\n",
       "    .dataframe thead th {\n",
       "        text-align: right;\n",
       "    }\n",
       "</style>\n",
       "<table border=\"1\" class=\"dataframe\">\n",
       "  <thead>\n",
       "    <tr style=\"text-align: right;\">\n",
       "      <th></th>\n",
       "      <th>Unnamed: 0</th>\n",
       "      <th>TV</th>\n",
       "      <th>radio</th>\n",
       "      <th>newspaper</th>\n",
       "      <th>sales</th>\n",
       "    </tr>\n",
       "  </thead>\n",
       "  <tbody>\n",
       "    <tr>\n",
       "      <th>count</th>\n",
       "      <td>200.000000</td>\n",
       "      <td>200.000000</td>\n",
       "      <td>200.000000</td>\n",
       "      <td>200.000000</td>\n",
       "      <td>200.000000</td>\n",
       "    </tr>\n",
       "    <tr>\n",
       "      <th>mean</th>\n",
       "      <td>100.500000</td>\n",
       "      <td>147.042500</td>\n",
       "      <td>23.264000</td>\n",
       "      <td>30.554000</td>\n",
       "      <td>14.022500</td>\n",
       "    </tr>\n",
       "    <tr>\n",
       "      <th>std</th>\n",
       "      <td>57.879185</td>\n",
       "      <td>85.854236</td>\n",
       "      <td>14.846809</td>\n",
       "      <td>21.778621</td>\n",
       "      <td>5.217457</td>\n",
       "    </tr>\n",
       "    <tr>\n",
       "      <th>min</th>\n",
       "      <td>1.000000</td>\n",
       "      <td>0.700000</td>\n",
       "      <td>0.000000</td>\n",
       "      <td>0.300000</td>\n",
       "      <td>1.600000</td>\n",
       "    </tr>\n",
       "    <tr>\n",
       "      <th>25%</th>\n",
       "      <td>50.750000</td>\n",
       "      <td>74.375000</td>\n",
       "      <td>9.975000</td>\n",
       "      <td>12.750000</td>\n",
       "      <td>10.375000</td>\n",
       "    </tr>\n",
       "    <tr>\n",
       "      <th>50%</th>\n",
       "      <td>100.500000</td>\n",
       "      <td>149.750000</td>\n",
       "      <td>22.900000</td>\n",
       "      <td>25.750000</td>\n",
       "      <td>12.900000</td>\n",
       "    </tr>\n",
       "    <tr>\n",
       "      <th>75%</th>\n",
       "      <td>150.250000</td>\n",
       "      <td>218.825000</td>\n",
       "      <td>36.525000</td>\n",
       "      <td>45.100000</td>\n",
       "      <td>17.400000</td>\n",
       "    </tr>\n",
       "    <tr>\n",
       "      <th>max</th>\n",
       "      <td>200.000000</td>\n",
       "      <td>296.400000</td>\n",
       "      <td>49.600000</td>\n",
       "      <td>114.000000</td>\n",
       "      <td>27.000000</td>\n",
       "    </tr>\n",
       "  </tbody>\n",
       "</table>\n",
       "</div>"
      ],
      "text/plain": [
       "       Unnamed: 0          TV       radio   newspaper       sales\n",
       "count  200.000000  200.000000  200.000000  200.000000  200.000000\n",
       "mean   100.500000  147.042500   23.264000   30.554000   14.022500\n",
       "std     57.879185   85.854236   14.846809   21.778621    5.217457\n",
       "min      1.000000    0.700000    0.000000    0.300000    1.600000\n",
       "25%     50.750000   74.375000    9.975000   12.750000   10.375000\n",
       "50%    100.500000  149.750000   22.900000   25.750000   12.900000\n",
       "75%    150.250000  218.825000   36.525000   45.100000   17.400000\n",
       "max    200.000000  296.400000   49.600000  114.000000   27.000000"
      ]
     },
     "execution_count": 3,
     "metadata": {},
     "output_type": "execute_result"
    }
   ],
   "source": [
    "df.describe()"
   ]
  },
  {
   "cell_type": "markdown",
   "id": "e23688b1",
   "metadata": {},
   "source": [
    "* The above table shows described details of data given."
   ]
  },
  {
   "cell_type": "code",
   "execution_count": 4,
   "id": "9cae433b",
   "metadata": {},
   "outputs": [
    {
     "data": {
      "text/html": [
       "<div>\n",
       "<style scoped>\n",
       "    .dataframe tbody tr th:only-of-type {\n",
       "        vertical-align: middle;\n",
       "    }\n",
       "\n",
       "    .dataframe tbody tr th {\n",
       "        vertical-align: top;\n",
       "    }\n",
       "\n",
       "    .dataframe thead th {\n",
       "        text-align: right;\n",
       "    }\n",
       "</style>\n",
       "<table border=\"1\" class=\"dataframe\">\n",
       "  <thead>\n",
       "    <tr style=\"text-align: right;\">\n",
       "      <th></th>\n",
       "      <th>TV</th>\n",
       "      <th>radio</th>\n",
       "      <th>newspaper</th>\n",
       "      <th>sales</th>\n",
       "    </tr>\n",
       "  </thead>\n",
       "  <tbody>\n",
       "    <tr>\n",
       "      <th>0</th>\n",
       "      <td>230.1</td>\n",
       "      <td>37.8</td>\n",
       "      <td>69.2</td>\n",
       "      <td>22.1</td>\n",
       "    </tr>\n",
       "    <tr>\n",
       "      <th>1</th>\n",
       "      <td>44.5</td>\n",
       "      <td>39.3</td>\n",
       "      <td>45.1</td>\n",
       "      <td>10.4</td>\n",
       "    </tr>\n",
       "    <tr>\n",
       "      <th>2</th>\n",
       "      <td>17.2</td>\n",
       "      <td>45.9</td>\n",
       "      <td>69.3</td>\n",
       "      <td>9.3</td>\n",
       "    </tr>\n",
       "    <tr>\n",
       "      <th>3</th>\n",
       "      <td>151.5</td>\n",
       "      <td>41.3</td>\n",
       "      <td>58.5</td>\n",
       "      <td>18.5</td>\n",
       "    </tr>\n",
       "    <tr>\n",
       "      <th>4</th>\n",
       "      <td>180.8</td>\n",
       "      <td>10.8</td>\n",
       "      <td>58.4</td>\n",
       "      <td>12.9</td>\n",
       "    </tr>\n",
       "    <tr>\n",
       "      <th>...</th>\n",
       "      <td>...</td>\n",
       "      <td>...</td>\n",
       "      <td>...</td>\n",
       "      <td>...</td>\n",
       "    </tr>\n",
       "    <tr>\n",
       "      <th>195</th>\n",
       "      <td>38.2</td>\n",
       "      <td>3.7</td>\n",
       "      <td>13.8</td>\n",
       "      <td>7.6</td>\n",
       "    </tr>\n",
       "    <tr>\n",
       "      <th>196</th>\n",
       "      <td>94.2</td>\n",
       "      <td>4.9</td>\n",
       "      <td>8.1</td>\n",
       "      <td>9.7</td>\n",
       "    </tr>\n",
       "    <tr>\n",
       "      <th>197</th>\n",
       "      <td>177.0</td>\n",
       "      <td>9.3</td>\n",
       "      <td>6.4</td>\n",
       "      <td>12.8</td>\n",
       "    </tr>\n",
       "    <tr>\n",
       "      <th>198</th>\n",
       "      <td>283.6</td>\n",
       "      <td>42.0</td>\n",
       "      <td>66.2</td>\n",
       "      <td>25.5</td>\n",
       "    </tr>\n",
       "    <tr>\n",
       "      <th>199</th>\n",
       "      <td>232.1</td>\n",
       "      <td>8.6</td>\n",
       "      <td>8.7</td>\n",
       "      <td>13.4</td>\n",
       "    </tr>\n",
       "  </tbody>\n",
       "</table>\n",
       "<p>200 rows × 4 columns</p>\n",
       "</div>"
      ],
      "text/plain": [
       "        TV  radio  newspaper  sales\n",
       "0    230.1   37.8       69.2   22.1\n",
       "1     44.5   39.3       45.1   10.4\n",
       "2     17.2   45.9       69.3    9.3\n",
       "3    151.5   41.3       58.5   18.5\n",
       "4    180.8   10.8       58.4   12.9\n",
       "..     ...    ...        ...    ...\n",
       "195   38.2    3.7       13.8    7.6\n",
       "196   94.2    4.9        8.1    9.7\n",
       "197  177.0    9.3        6.4   12.8\n",
       "198  283.6   42.0       66.2   25.5\n",
       "199  232.1    8.6        8.7   13.4\n",
       "\n",
       "[200 rows x 4 columns]"
      ]
     },
     "execution_count": 4,
     "metadata": {},
     "output_type": "execute_result"
    }
   ],
   "source": [
    "df1=df.iloc[:, 1:5]\n",
    "df1"
   ]
  },
  {
   "cell_type": "markdown",
   "id": "d5c7e1df",
   "metadata": {},
   "source": [
    "* From above table removed or deleted the unwanted row from the data"
   ]
  },
  {
   "cell_type": "markdown",
   "id": "8e1d3faf",
   "metadata": {},
   "source": [
    "# Finding null values"
   ]
  },
  {
   "cell_type": "code",
   "execution_count": 5,
   "id": "4c4a857a",
   "metadata": {},
   "outputs": [
    {
     "name": "stdout",
     "output_type": "stream",
     "text": [
      "<class 'pandas.core.frame.DataFrame'>\n",
      "RangeIndex: 200 entries, 0 to 199\n",
      "Data columns (total 4 columns):\n",
      " #   Column     Non-Null Count  Dtype  \n",
      "---  ------     --------------  -----  \n",
      " 0   TV         200 non-null    float64\n",
      " 1   radio      200 non-null    float64\n",
      " 2   newspaper  200 non-null    float64\n",
      " 3   sales      200 non-null    float64\n",
      "dtypes: float64(4)\n",
      "memory usage: 6.4 KB\n"
     ]
    }
   ],
   "source": [
    "df1.info()"
   ]
  },
  {
   "cell_type": "markdown",
   "id": "8ebd609d",
   "metadata": {},
   "source": [
    " * From above observation there is no null values in the data"
   ]
  },
  {
   "cell_type": "code",
   "execution_count": 6,
   "id": "4e3f41dc",
   "metadata": {},
   "outputs": [
    {
     "data": {
      "text/plain": [
       "(200, 4)"
      ]
     },
     "execution_count": 6,
     "metadata": {},
     "output_type": "execute_result"
    }
   ],
   "source": [
    "df1.shape"
   ]
  },
  {
   "cell_type": "markdown",
   "id": "92fe3551",
   "metadata": {},
   "source": [
    "* From above function tells there is 200 rows and 4 columns in the data"
   ]
  },
  {
   "cell_type": "code",
   "execution_count": 7,
   "id": "751f3c81",
   "metadata": {},
   "outputs": [
    {
     "data": {
      "text/plain": [
       "0"
      ]
     },
     "execution_count": 7,
     "metadata": {},
     "output_type": "execute_result"
    }
   ],
   "source": [
    "df1.isnull().all().sum()"
   ]
  },
  {
   "cell_type": "markdown",
   "id": "a21c7a29",
   "metadata": {},
   "source": [
    "# Finding null values using heatmap plot"
   ]
  },
  {
   "cell_type": "code",
   "execution_count": 8,
   "id": "a4dff577",
   "metadata": {},
   "outputs": [
    {
     "data": {
      "text/plain": [
       "Text(0.5, 1.0, 'Null values')"
      ]
     },
     "execution_count": 8,
     "metadata": {},
     "output_type": "execute_result"
    },
    {
     "data": {
      "image/png": "[encoded data removed]",
      "text/plain": [
       "<Figure size 432x288 with 2 Axes>"
      ]
     },
     "metadata": {
      "needs_background": "light"
     },
     "output_type": "display_data"
    }
   ],
   "source": [
    "sns.heatmap(df1.isnull())\n",
    "plt.title('Null values')"
   ]
  },
  {
   "cell_type": "markdown",
   "id": "93a80213",
   "metadata": {},
   "source": [
    "* Hece the red color shows there is no null values in the data"
   ]
  },
  {
   "cell_type": "code",
   "execution_count": 9,
   "id": "e0a1251d",
   "metadata": {},
   "outputs": [
    {
     "data": {
      "text/html": [
       "<div>\n",
       "<style scoped>\n",
       "    .dataframe tbody tr th:only-of-type {\n",
       "        vertical-align: middle;\n",
       "    }\n",
       "\n",
       "    .dataframe tbody tr th {\n",
       "        vertical-align: top;\n",
       "    }\n",
       "\n",
       "    .dataframe thead th {\n",
       "        text-align: right;\n",
       "    }\n",
       "</style>\n",
       "<table border=\"1\" class=\"dataframe\">\n",
       "  <thead>\n",
       "    <tr style=\"text-align: right;\">\n",
       "      <th></th>\n",
       "      <th>TV</th>\n",
       "      <th>radio</th>\n",
       "      <th>newspaper</th>\n",
       "      <th>sales</th>\n",
       "    </tr>\n",
       "  </thead>\n",
       "  <tbody>\n",
       "    <tr>\n",
       "      <th>TV</th>\n",
       "      <td>1.000000</td>\n",
       "      <td>0.054809</td>\n",
       "      <td>0.056648</td>\n",
       "      <td>0.782224</td>\n",
       "    </tr>\n",
       "    <tr>\n",
       "      <th>radio</th>\n",
       "      <td>0.054809</td>\n",
       "      <td>1.000000</td>\n",
       "      <td>0.354104</td>\n",
       "      <td>0.576223</td>\n",
       "    </tr>\n",
       "    <tr>\n",
       "      <th>newspaper</th>\n",
       "      <td>0.056648</td>\n",
       "      <td>0.354104</td>\n",
       "      <td>1.000000</td>\n",
       "      <td>0.228299</td>\n",
       "    </tr>\n",
       "    <tr>\n",
       "      <th>sales</th>\n",
       "      <td>0.782224</td>\n",
       "      <td>0.576223</td>\n",
       "      <td>0.228299</td>\n",
       "      <td>1.000000</td>\n",
       "    </tr>\n",
       "  </tbody>\n",
       "</table>\n",
       "</div>"
      ],
      "text/plain": [
       "                 TV     radio  newspaper     sales\n",
       "TV         1.000000  0.054809   0.056648  0.782224\n",
       "radio      0.054809  1.000000   0.354104  0.576223\n",
       "newspaper  0.056648  0.354104   1.000000  0.228299\n",
       "sales      0.782224  0.576223   0.228299  1.000000"
      ]
     },
     "execution_count": 9,
     "metadata": {},
     "output_type": "execute_result"
    }
   ],
   "source": [
    "df1.corr()"
   ]
  },
  {
   "cell_type": "markdown",
   "id": "78992b07",
   "metadata": {},
   "source": [
    "# Correlation matrix plot"
   ]
  },
  {
   "cell_type": "code",
   "execution_count": 10,
   "id": "578c79c1",
   "metadata": {},
   "outputs": [
    {
     "data": {
      "text/plain": [
       "Text(0.5, 1.0, 'Correlation Plot')"
      ]
     },
     "execution_count": 10,
     "metadata": {},
     "output_type": "execute_result"
    },
    {
     "data": {
      "image/png": "[encoded data removed]",
      "text/plain": [
       "<Figure size 576x432 with 2 Axes>"
      ]
     },
     "metadata": {},
     "output_type": "display_data"
    }
   ],
   "source": [
    "plt.figure(figsize=(8,6),facecolor='Yellow')\n",
    "sns.heatmap(df1.corr(),annot=True)\n",
    "plt.title('Correlation Plot')"
   ]
  },
  {
   "cell_type": "code",
   "execution_count": 11,
   "id": "a81f4d61",
   "metadata": {},
   "outputs": [
    {
     "data": {
      "text/plain": [
       "newspaper    0.228299\n",
       "radio        0.576223\n",
       "TV           0.782224\n",
       "sales        1.000000\n",
       "Name: sales, dtype: float64"
      ]
     },
     "execution_count": 11,
     "metadata": {},
     "output_type": "execute_result"
    }
   ],
   "source": [
    "corr_mat=df1.corr()\n",
    "corr_mat['sales'].sort_values(ascending=True)"
   ]
  },
  {
   "cell_type": "code",
   "execution_count": 12,
   "id": "24b879b0",
   "metadata": {},
   "outputs": [
    {
     "data": {
      "text/plain": [
       "<seaborn.axisgrid.PairGrid at 0x2d494429670>"
      ]
     },
     "execution_count": 12,
     "metadata": {},
     "output_type": "execute_result"
    },
    {
     "data": {
      "image/png": "[encoded data removed]",
      "text/plain": [
       "<Figure size 720x720 with 20 Axes>"
      ]
     },
     "metadata": {
      "needs_background": "light"
     },
     "output_type": "display_data"
    }
   ],
   "source": [
    "sns.pairplot(df1)"
   ]
  },
  {
   "cell_type": "markdown",
   "id": "afd185aa",
   "metadata": {},
   "source": [
    "# Data visualisation"
   ]
  },
  {
   "cell_type": "code",
   "execution_count": 13,
   "id": "bf58a6df",
   "metadata": {},
   "outputs": [
    {
     "data": {
      "text/plain": [
       "<AxesSubplot:xlabel='sales', ylabel='TV'>"
      ]
     },
     "execution_count": 13,
     "metadata": {},
     "output_type": "execute_result"
    },
    {
     "data": {
      "image/png": "[encoded data removed]",
      "text/plain": [
       "<Figure size 1080x576 with 1 Axes>"
      ]
     },
     "metadata": {
      "needs_background": "light"
     },
     "output_type": "display_data"
    }
   ],
   "source": [
    "plt.figure(figsize=(15,8))\n",
    "sns.barplot(x='sales',y='TV',data=df1)"
   ]
  },
  {
   "cell_type": "markdown",
   "id": "c43f7229",
   "metadata": {},
   "source": [
    "# Plotting data distribution plot"
   ]
  },
  {
   "cell_type": "code",
   "execution_count": 14,
   "id": "f2b26111",
   "metadata": {},
   "outputs": [
    {
     "data": {
      "image/png": "[encoded data removed]",
      "text/plain": [
       "<Figure size 1440x1152 with 4 Axes>"
      ]
     },
     "metadata": {},
     "output_type": "display_data"
    }
   ],
   "source": [
    "plt.figure(figsize=(20,16),facecolor='Yellow')\n",
    "plotnumber=1\n",
    "\n",
    "for column in df1:\n",
    "    if plotnumber<=8:\n",
    "        ax=plt.subplot(3,2,plotnumber)\n",
    "        sns.distplot(df1[column])\n",
    "        plt.xlabel(column,fontsize=10)\n",
    "        \n",
    "        plotnumber+=1\n",
    "        plt.tight_layout()"
   ]
  },
  {
   "cell_type": "code",
   "execution_count": 15,
   "id": "7f2c29f9",
   "metadata": {},
   "outputs": [
    {
     "data": {
      "text/plain": [
       "TV          -0.069853\n",
       "radio        0.094175\n",
       "newspaper    0.894720\n",
       "sales        0.407571\n",
       "dtype: float64"
      ]
     },
     "execution_count": 15,
     "metadata": {},
     "output_type": "execute_result"
    }
   ],
   "source": [
    "df1.skew()"
   ]
  },
  {
   "cell_type": "code",
   "execution_count": 16,
   "id": "a684a73c",
   "metadata": {},
   "outputs": [
    {
     "data": {
      "image/png": "[encoded data removed]",
      "text/plain": [
       "<Figure size 432x288 with 1 Axes>"
      ]
     },
     "metadata": {
      "needs_background": "light"
     },
     "output_type": "display_data"
    }
   ],
   "source": [
    "plt.hist(df1.sales,bins=6,alpha=0.5,histtype='bar',ec='black')\n",
    "plt.title('Distribution of sales')\n",
    "plt.xlabel('sales')\n",
    "plt.ylabel('counts')\n",
    "plt.show()"
   ]
  },
  {
   "cell_type": "code",
   "execution_count": 17,
   "id": "488e2740",
   "metadata": {},
   "outputs": [],
   "source": [
    "y=df1.iloc[: ,-1]\n",
    "x=df1.iloc[: ,0:3]\n",
    "col=df1.iloc[: ,0:2]"
   ]
  },
  {
   "cell_type": "code",
   "execution_count": 18,
   "id": "276568f2",
   "metadata": {},
   "outputs": [
    {
     "data": {
      "image/png": "[encoded data removed]",
      "text/plain": [
       "<Figure size 1080x720 with 3 Axes>"
      ]
     },
     "metadata": {},
     "output_type": "display_data"
    }
   ],
   "source": [
    "#visualiing relationship\n",
    "plt.figure(figsize=(15,10),facecolor='yellow')\n",
    "plotnumber=1\n",
    "\n",
    "for column in x:\n",
    "    if plotnumber<=8:\n",
    "        ax=plt.subplot(2,4,plotnumber)\n",
    "        plt.scatter(x[column],y)\n",
    "        plt.xlabel(column,fontsize=10)\n",
    "        plt.ylabel('sales',fontsize=10)\n",
    "        \n",
    "    plotnumber+=1\n",
    "    plt.tight_layout()"
   ]
  },
  {
   "cell_type": "markdown",
   "id": "fd65b9bd",
   "metadata": {},
   "source": [
    "# Removing skewness"
   ]
  },
  {
   "cell_type": "code",
   "execution_count": 19,
   "id": "df8d9fec",
   "metadata": {},
   "outputs": [
    {
     "data": {
      "text/plain": [
       "33      0.547723\n",
       "65      0.948683\n",
       "8       1.000000\n",
       "139     1.303840\n",
       "42      1.341641\n",
       "         ...    \n",
       "118     8.899438\n",
       "165     9.208692\n",
       "75      9.455157\n",
       "101    10.044899\n",
       "16     10.677078\n",
       "Name: newspaper, Length: 200, dtype: float64"
      ]
     },
     "execution_count": 19,
     "metadata": {},
     "output_type": "execute_result"
    }
   ],
   "source": [
    "\n",
    "x_new=np.sqrt(df1['newspaper'])\n",
    "x_new.sort_values(ascending=True)"
   ]
  },
  {
   "cell_type": "code",
   "execution_count": 20,
   "id": "562855e1",
   "metadata": {},
   "outputs": [
    {
     "data": {
      "text/plain": [
       "newspaper    0.062388\n",
       "dtype: float64"
      ]
     },
     "execution_count": 20,
     "metadata": {},
     "output_type": "execute_result"
    }
   ],
   "source": [
    "pd.DataFrame(x_new).skew().sort_values(ascending=True)"
   ]
  },
  {
   "cell_type": "code",
   "execution_count": 21,
   "id": "d251e50d",
   "metadata": {},
   "outputs": [
    {
     "data": {
      "text/html": [
       "<div>\n",
       "<style scoped>\n",
       "    .dataframe tbody tr th:only-of-type {\n",
       "        vertical-align: middle;\n",
       "    }\n",
       "\n",
       "    .dataframe tbody tr th {\n",
       "        vertical-align: top;\n",
       "    }\n",
       "\n",
       "    .dataframe thead th {\n",
       "        text-align: right;\n",
       "    }\n",
       "</style>\n",
       "<table border=\"1\" class=\"dataframe\">\n",
       "  <thead>\n",
       "    <tr style=\"text-align: right;\">\n",
       "      <th></th>\n",
       "      <th>TV</th>\n",
       "      <th>radio</th>\n",
       "      <th>newspaper</th>\n",
       "    </tr>\n",
       "  </thead>\n",
       "  <tbody>\n",
       "    <tr>\n",
       "      <th>0</th>\n",
       "      <td>230.1</td>\n",
       "      <td>37.8</td>\n",
       "      <td>8.318654</td>\n",
       "    </tr>\n",
       "    <tr>\n",
       "      <th>1</th>\n",
       "      <td>44.5</td>\n",
       "      <td>39.3</td>\n",
       "      <td>6.715653</td>\n",
       "    </tr>\n",
       "    <tr>\n",
       "      <th>2</th>\n",
       "      <td>17.2</td>\n",
       "      <td>45.9</td>\n",
       "      <td>8.324662</td>\n",
       "    </tr>\n",
       "    <tr>\n",
       "      <th>3</th>\n",
       "      <td>151.5</td>\n",
       "      <td>41.3</td>\n",
       "      <td>7.648529</td>\n",
       "    </tr>\n",
       "    <tr>\n",
       "      <th>4</th>\n",
       "      <td>180.8</td>\n",
       "      <td>10.8</td>\n",
       "      <td>7.641989</td>\n",
       "    </tr>\n",
       "    <tr>\n",
       "      <th>...</th>\n",
       "      <td>...</td>\n",
       "      <td>...</td>\n",
       "      <td>...</td>\n",
       "    </tr>\n",
       "    <tr>\n",
       "      <th>195</th>\n",
       "      <td>38.2</td>\n",
       "      <td>3.7</td>\n",
       "      <td>3.714835</td>\n",
       "    </tr>\n",
       "    <tr>\n",
       "      <th>196</th>\n",
       "      <td>94.2</td>\n",
       "      <td>4.9</td>\n",
       "      <td>2.846050</td>\n",
       "    </tr>\n",
       "    <tr>\n",
       "      <th>197</th>\n",
       "      <td>177.0</td>\n",
       "      <td>9.3</td>\n",
       "      <td>2.529822</td>\n",
       "    </tr>\n",
       "    <tr>\n",
       "      <th>198</th>\n",
       "      <td>283.6</td>\n",
       "      <td>42.0</td>\n",
       "      <td>8.136338</td>\n",
       "    </tr>\n",
       "    <tr>\n",
       "      <th>199</th>\n",
       "      <td>232.1</td>\n",
       "      <td>8.6</td>\n",
       "      <td>2.949576</td>\n",
       "    </tr>\n",
       "  </tbody>\n",
       "</table>\n",
       "<p>200 rows × 3 columns</p>\n",
       "</div>"
      ],
      "text/plain": [
       "        TV  radio  newspaper\n",
       "0    230.1   37.8   8.318654\n",
       "1     44.5   39.3   6.715653\n",
       "2     17.2   45.9   8.324662\n",
       "3    151.5   41.3   7.648529\n",
       "4    180.8   10.8   7.641989\n",
       "..     ...    ...        ...\n",
       "195   38.2    3.7   3.714835\n",
       "196   94.2    4.9   2.846050\n",
       "197  177.0    9.3   2.529822\n",
       "198  283.6   42.0   8.136338\n",
       "199  232.1    8.6   2.949576\n",
       "\n",
       "[200 rows x 3 columns]"
      ]
     },
     "execution_count": 21,
     "metadata": {},
     "output_type": "execute_result"
    }
   ],
   "source": [
    "df_new=pd.concat([col,x_new],axis=1)\n",
    "df_new"
   ]
  },
  {
   "cell_type": "code",
   "execution_count": 22,
   "id": "c46822cf",
   "metadata": {},
   "outputs": [
    {
     "data": {
      "text/plain": [
       "TV          -0.069853\n",
       "radio        0.094175\n",
       "newspaper    0.062388\n",
       "dtype: float64"
      ]
     },
     "execution_count": 22,
     "metadata": {},
     "output_type": "execute_result"
    }
   ],
   "source": [
    "df_new.skew()"
   ]
  },
  {
   "cell_type": "code",
   "execution_count": 23,
   "id": "788f1f9f",
   "metadata": {},
   "outputs": [
    {
     "data": {
      "image/png": "[encoded data removed]",
      "text/plain": [
       "<Figure size 1152x720 with 3 Axes>"
      ]
     },
     "metadata": {},
     "output_type": "display_data"
    }
   ],
   "source": [
    "plt.figure(figsize=(16,10),facecolor='Yellow')\n",
    "plotnumber=1\n",
    "\n",
    "for column in df_new:\n",
    "    if plotnumber<=6:\n",
    "        ax=plt.subplot(2,3,plotnumber)\n",
    "        sns.distplot(df_new[column])\n",
    "        plt.xlabel(column,fontsize=10)\n",
    "        plt.title('Distribution plot')\n",
    "        \n",
    "        plotnumber+=1\n",
    "        plt.tight_layout()"
   ]
  },
  {
   "cell_type": "code",
   "execution_count": 24,
   "id": "4d2f1e49",
   "metadata": {},
   "outputs": [
    {
     "data": {
      "image/png": "[encoded data removed]",
      "text/plain": [
       "<Figure size 864x576 with 1 Axes>"
      ]
     },
     "metadata": {
      "needs_background": "light"
     },
     "output_type": "display_data"
    }
   ],
   "source": [
    "df1.boxplot(figsize=(12,8))\n",
    "plt.subplots_adjust(bottom=0.25)\n",
    "plt.show()\n"
   ]
  },
  {
   "cell_type": "code",
   "execution_count": 25,
   "id": "78bbcdba",
   "metadata": {},
   "outputs": [
    {
     "data": {
      "text/plain": [
       "TV            True\n",
       "radio         True\n",
       "newspaper    False\n",
       "sales         True\n",
       "dtype: bool"
      ]
     },
     "execution_count": 25,
     "metadata": {},
     "output_type": "execute_result"
    }
   ],
   "source": [
    "(np.abs(zscore(df1))<3).all()"
   ]
  },
  {
   "cell_type": "code",
   "execution_count": 26,
   "id": "e4fe6360",
   "metadata": {},
   "outputs": [
    {
     "data": {
      "text/plain": [
       "(array([  0,   0,   0,   0,   1,   1,   1,   1,   2,   2,   2,   2,   3,\n",
       "          3,   3,   3,   4,   4,   4,   4,   5,   5,   5,   5,   6,   6,\n",
       "          6,   6,   7,   7,   7,   7,   8,   8,   8,   8,   9,   9,   9,\n",
       "          9,  10,  10,  10,  10,  11,  11,  11,  11,  12,  12,  12,  12,\n",
       "         13,  13,  13,  13,  14,  14,  14,  14,  15,  15,  15,  15,  16,\n",
       "         16,  16,  17,  17,  17,  17,  18,  18,  18,  18,  19,  19,  19,\n",
       "         19,  20,  20,  20,  20,  21,  21,  21,  21,  22,  22,  22,  22,\n",
       "         23,  23,  23,  23,  24,  24,  24,  24,  25,  25,  25,  25,  26,\n",
       "         26,  26,  26,  27,  27,  27,  27,  28,  28,  28,  28,  29,  29,\n",
       "         29,  29,  30,  30,  30,  30,  31,  31,  31,  31,  32,  32,  32,\n",
       "         32,  33,  33,  33,  33,  34,  34,  34,  34,  35,  35,  35,  35,\n",
       "         36,  36,  36,  36,  37,  37,  37,  37,  38,  38,  38,  38,  39,\n",
       "         39,  39,  39,  40,  40,  40,  40,  41,  41,  41,  41,  42,  42,\n",
       "         42,  42,  43,  43,  43,  43,  44,  44,  44,  44,  45,  45,  45,\n",
       "         45,  46,  46,  46,  46,  47,  47,  47,  47,  48,  48,  48,  48,\n",
       "         49,  49,  49,  49,  50,  50,  50,  50,  51,  51,  51,  51,  52,\n",
       "         52,  52,  52,  53,  53,  53,  53,  54,  54,  54,  54,  55,  55,\n",
       "         55,  55,  56,  56,  56,  56,  57,  57,  57,  57,  58,  58,  58,\n",
       "         58,  59,  59,  59,  59,  60,  60,  60,  60,  61,  61,  61,  61,\n",
       "         62,  62,  62,  62,  63,  63,  63,  63,  64,  64,  64,  64,  65,\n",
       "         65,  65,  65,  66,  66,  66,  66,  67,  67,  67,  67,  68,  68,\n",
       "         68,  68,  69,  69,  69,  69,  70,  70,  70,  70,  71,  71,  71,\n",
       "         71,  72,  72,  72,  72,  73,  73,  73,  73,  74,  74,  74,  74,\n",
       "         75,  75,  75,  75,  76,  76,  76,  76,  77,  77,  77,  77,  78,\n",
       "         78,  78,  78,  79,  79,  79,  79,  80,  80,  80,  80,  81,  81,\n",
       "         81,  81,  82,  82,  82,  82,  83,  83,  83,  83,  84,  84,  84,\n",
       "         84,  85,  85,  85,  85,  86,  86,  86,  86,  87,  87,  87,  87,\n",
       "         88,  88,  88,  88,  89,  89,  89,  89,  90,  90,  90,  90,  91,\n",
       "         91,  91,  91,  92,  92,  92,  92,  93,  93,  93,  93,  94,  94,\n",
       "         94,  94,  95,  95,  95,  95,  96,  96,  96,  96,  97,  97,  97,\n",
       "         97,  98,  98,  98,  98,  99,  99,  99,  99, 100, 100, 100, 100,\n",
       "        101, 101, 101, 102, 102, 102, 102, 103, 103, 103, 103, 104, 104,\n",
       "        104, 104, 105, 105, 105, 105, 106, 106, 106, 106, 107, 107, 107,\n",
       "        107, 108, 108, 108, 108, 109, 109, 109, 109, 110, 110, 110, 110,\n",
       "        111, 111, 111, 111, 112, 112, 112, 112, 113, 113, 113, 113, 114,\n",
       "        114, 114, 114, 115, 115, 115, 115, 116, 116, 116, 116, 117, 117,\n",
       "        117, 117, 118, 118, 118, 118, 119, 119, 119, 119, 120, 120, 120,\n",
       "        120, 121, 121, 121, 121, 122, 122, 122, 122, 123, 123, 123, 123,\n",
       "        124, 124, 124, 124, 125, 125, 125, 125, 126, 126, 126, 126, 127,\n",
       "        127, 127, 127, 128, 128, 128, 128, 129, 129, 129, 129, 130, 130,\n",
       "        130, 130, 131, 131, 131, 131, 132, 132, 132, 132, 133, 133, 133,\n",
       "        133, 134, 134, 134, 134, 135, 135, 135, 135, 136, 136, 136, 136,\n",
       "        137, 137, 137, 137, 138, 138, 138, 138, 139, 139, 139, 139, 140,\n",
       "        140, 140, 140, 141, 141, 141, 141, 142, 142, 142, 142, 143, 143,\n",
       "        143, 143, 144, 144, 144, 144, 145, 145, 145, 145, 146, 146, 146,\n",
       "        146, 147, 147, 147, 147, 148, 148, 148, 148, 149, 149, 149, 149,\n",
       "        150, 150, 150, 150, 151, 151, 151, 151, 152, 152, 152, 152, 153,\n",
       "        153, 153, 153, 154, 154, 154, 154, 155, 155, 155, 155, 156, 156,\n",
       "        156, 156, 157, 157, 157, 157, 158, 158, 158, 158, 159, 159, 159,\n",
       "        159, 160, 160, 160, 160, 161, 161, 161, 161, 162, 162, 162, 162,\n",
       "        163, 163, 163, 163, 164, 164, 164, 164, 165, 165, 165, 165, 166,\n",
       "        166, 166, 166, 167, 167, 167, 167, 168, 168, 168, 168, 169, 169,\n",
       "        169, 169, 170, 170, 170, 170, 171, 171, 171, 171, 172, 172, 172,\n",
       "        172, 173, 173, 173, 173, 174, 174, 174, 174, 175, 175, 175, 175,\n",
       "        176, 176, 176, 176, 177, 177, 177, 177, 178, 178, 178, 178, 179,\n",
       "        179, 179, 179, 180, 180, 180, 180, 181, 181, 181, 181, 182, 182,\n",
       "        182, 182, 183, 183, 183, 183, 184, 184, 184, 184, 185, 185, 185,\n",
       "        185, 186, 186, 186, 186, 187, 187, 187, 187, 188, 188, 188, 188,\n",
       "        189, 189, 189, 189, 190, 190, 190, 190, 191, 191, 191, 191, 192,\n",
       "        192, 192, 192, 193, 193, 193, 193, 194, 194, 194, 194, 195, 195,\n",
       "        195, 195, 196, 196, 196, 196, 197, 197, 197, 197, 198, 198, 198,\n",
       "        198, 199, 199, 199, 199], dtype=int64),\n",
       " array([0, 1, 2, 3, 0, 1, 2, 3, 0, 1, 2, 3, 0, 1, 2, 3, 0, 1, 2, 3, 0, 1,\n",
       "        2, 3, 0, 1, 2, 3, 0, 1, 2, 3, 0, 1, 2, 3, 0, 1, 2, 3, 0, 1, 2, 3,\n",
       "        0, 1, 2, 3, 0, 1, 2, 3, 0, 1, 2, 3, 0, 1, 2, 3, 0, 1, 2, 3, 0, 1,\n",
       "        3, 0, 1, 2, 3, 0, 1, 2, 3, 0, 1, 2, 3, 0, 1, 2, 3, 0, 1, 2, 3, 0,\n",
       "        1, 2, 3, 0, 1, 2, 3, 0, 1, 2, 3, 0, 1, 2, 3, 0, 1, 2, 3, 0, 1, 2,\n",
       "        3, 0, 1, 2, 3, 0, 1, 2, 3, 0, 1, 2, 3, 0, 1, 2, 3, 0, 1, 2, 3, 0,\n",
       "        1, 2, 3, 0, 1, 2, 3, 0, 1, 2, 3, 0, 1, 2, 3, 0, 1, 2, 3, 0, 1, 2,\n",
       "        3, 0, 1, 2, 3, 0, 1, 2, 3, 0, 1, 2, 3, 0, 1, 2, 3, 0, 1, 2, 3, 0,\n",
       "        1, 2, 3, 0, 1, 2, 3, 0, 1, 2, 3, 0, 1, 2, 3, 0, 1, 2, 3, 0, 1, 2,\n",
       "        3, 0, 1, 2, 3, 0, 1, 2, 3, 0, 1, 2, 3, 0, 1, 2, 3, 0, 1, 2, 3, 0,\n",
       "        1, 2, 3, 0, 1, 2, 3, 0, 1, 2, 3, 0, 1, 2, 3, 0, 1, 2, 3, 0, 1, 2,\n",
       "        3, 0, 1, 2, 3, 0, 1, 2, 3, 0, 1, 2, 3, 0, 1, 2, 3, 0, 1, 2, 3, 0,\n",
       "        1, 2, 3, 0, 1, 2, 3, 0, 1, 2, 3, 0, 1, 2, 3, 0, 1, 2, 3, 0, 1, 2,\n",
       "        3, 0, 1, 2, 3, 0, 1, 2, 3, 0, 1, 2, 3, 0, 1, 2, 3, 0, 1, 2, 3, 0,\n",
       "        1, 2, 3, 0, 1, 2, 3, 0, 1, 2, 3, 0, 1, 2, 3, 0, 1, 2, 3, 0, 1, 2,\n",
       "        3, 0, 1, 2, 3, 0, 1, 2, 3, 0, 1, 2, 3, 0, 1, 2, 3, 0, 1, 2, 3, 0,\n",
       "        1, 2, 3, 0, 1, 2, 3, 0, 1, 2, 3, 0, 1, 2, 3, 0, 1, 2, 3, 0, 1, 2,\n",
       "        3, 0, 1, 2, 3, 0, 1, 2, 3, 0, 1, 2, 3, 0, 1, 2, 3, 0, 1, 2, 3, 0,\n",
       "        1, 2, 3, 0, 1, 2, 3, 0, 1, 3, 0, 1, 2, 3, 0, 1, 2, 3, 0, 1, 2, 3,\n",
       "        0, 1, 2, 3, 0, 1, 2, 3, 0, 1, 2, 3, 0, 1, 2, 3, 0, 1, 2, 3, 0, 1,\n",
       "        2, 3, 0, 1, 2, 3, 0, 1, 2, 3, 0, 1, 2, 3, 0, 1, 2, 3, 0, 1, 2, 3,\n",
       "        0, 1, 2, 3, 0, 1, 2, 3, 0, 1, 2, 3, 0, 1, 2, 3, 0, 1, 2, 3, 0, 1,\n",
       "        2, 3, 0, 1, 2, 3, 0, 1, 2, 3, 0, 1, 2, 3, 0, 1, 2, 3, 0, 1, 2, 3,\n",
       "        0, 1, 2, 3, 0, 1, 2, 3, 0, 1, 2, 3, 0, 1, 2, 3, 0, 1, 2, 3, 0, 1,\n",
       "        2, 3, 0, 1, 2, 3, 0, 1, 2, 3, 0, 1, 2, 3, 0, 1, 2, 3, 0, 1, 2, 3,\n",
       "        0, 1, 2, 3, 0, 1, 2, 3, 0, 1, 2, 3, 0, 1, 2, 3, 0, 1, 2, 3, 0, 1,\n",
       "        2, 3, 0, 1, 2, 3, 0, 1, 2, 3, 0, 1, 2, 3, 0, 1, 2, 3, 0, 1, 2, 3,\n",
       "        0, 1, 2, 3, 0, 1, 2, 3, 0, 1, 2, 3, 0, 1, 2, 3, 0, 1, 2, 3, 0, 1,\n",
       "        2, 3, 0, 1, 2, 3, 0, 1, 2, 3, 0, 1, 2, 3, 0, 1, 2, 3, 0, 1, 2, 3,\n",
       "        0, 1, 2, 3, 0, 1, 2, 3, 0, 1, 2, 3, 0, 1, 2, 3, 0, 1, 2, 3, 0, 1,\n",
       "        2, 3, 0, 1, 2, 3, 0, 1, 2, 3, 0, 1, 2, 3, 0, 1, 2, 3, 0, 1, 2, 3,\n",
       "        0, 1, 2, 3, 0, 1, 2, 3, 0, 1, 2, 3, 0, 1, 2, 3, 0, 1, 2, 3, 0, 1,\n",
       "        2, 3, 0, 1, 2, 3, 0, 1, 2, 3, 0, 1, 2, 3, 0, 1, 2, 3, 0, 1, 2, 3,\n",
       "        0, 1, 2, 3, 0, 1, 2, 3, 0, 1, 2, 3, 0, 1, 2, 3, 0, 1, 2, 3, 0, 1,\n",
       "        2, 3, 0, 1, 2, 3, 0, 1, 2, 3, 0, 1, 2, 3, 0, 1, 2, 3, 0, 1, 2, 3,\n",
       "        0, 1, 2, 3, 0, 1, 2, 3, 0, 1, 2, 3, 0, 1, 2, 3, 0, 1, 2, 3, 0, 1,\n",
       "        2, 3, 0, 1, 2, 3], dtype=int64))"
      ]
     },
     "execution_count": 26,
     "metadata": {},
     "output_type": "execute_result"
    }
   ],
   "source": [
    "scores=np.abs(zscore(df1))\n",
    "t=3\n",
    "np.where(scores<3)\n",
    "              "
   ]
  },
  {
   "cell_type": "code",
   "execution_count": 27,
   "id": "eb207ff4",
   "metadata": {},
   "outputs": [
    {
     "name": "stdout",
     "output_type": "stream",
     "text": [
      "<class 'pandas.core.frame.DataFrame'>\n",
      "Int64Index: 198 entries, 0 to 199\n",
      "Data columns (total 4 columns):\n",
      " #   Column     Non-Null Count  Dtype  \n",
      "---  ------     --------------  -----  \n",
      " 0   TV         198 non-null    float64\n",
      " 1   radio      198 non-null    float64\n",
      " 2   newspaper  198 non-null    float64\n",
      " 3   sales      198 non-null    float64\n",
      "dtypes: float64(4)\n",
      "memory usage: 7.7 KB\n"
     ]
    }
   ],
   "source": [
    "df_out=df1[(scores<3).all(axis=1)]\n",
    "df_out.info()"
   ]
  },
  {
   "cell_type": "code",
   "execution_count": 28,
   "id": "3e5ba83d",
   "metadata": {},
   "outputs": [
    {
     "data": {
      "text/html": [
       "<div>\n",
       "<style scoped>\n",
       "    .dataframe tbody tr th:only-of-type {\n",
       "        vertical-align: middle;\n",
       "    }\n",
       "\n",
       "    .dataframe tbody tr th {\n",
       "        vertical-align: top;\n",
       "    }\n",
       "\n",
       "    .dataframe thead th {\n",
       "        text-align: right;\n",
       "    }\n",
       "</style>\n",
       "<table border=\"1\" class=\"dataframe\">\n",
       "  <thead>\n",
       "    <tr style=\"text-align: right;\">\n",
       "      <th></th>\n",
       "      <th>index</th>\n",
       "      <th>TV</th>\n",
       "      <th>radio</th>\n",
       "      <th>newspaper</th>\n",
       "      <th>sales</th>\n",
       "    </tr>\n",
       "  </thead>\n",
       "  <tbody>\n",
       "    <tr>\n",
       "      <th>0</th>\n",
       "      <td>0</td>\n",
       "      <td>230.1</td>\n",
       "      <td>37.8</td>\n",
       "      <td>69.2</td>\n",
       "      <td>22.1</td>\n",
       "    </tr>\n",
       "    <tr>\n",
       "      <th>1</th>\n",
       "      <td>1</td>\n",
       "      <td>44.5</td>\n",
       "      <td>39.3</td>\n",
       "      <td>45.1</td>\n",
       "      <td>10.4</td>\n",
       "    </tr>\n",
       "    <tr>\n",
       "      <th>2</th>\n",
       "      <td>2</td>\n",
       "      <td>17.2</td>\n",
       "      <td>45.9</td>\n",
       "      <td>69.3</td>\n",
       "      <td>9.3</td>\n",
       "    </tr>\n",
       "    <tr>\n",
       "      <th>3</th>\n",
       "      <td>3</td>\n",
       "      <td>151.5</td>\n",
       "      <td>41.3</td>\n",
       "      <td>58.5</td>\n",
       "      <td>18.5</td>\n",
       "    </tr>\n",
       "    <tr>\n",
       "      <th>4</th>\n",
       "      <td>4</td>\n",
       "      <td>180.8</td>\n",
       "      <td>10.8</td>\n",
       "      <td>58.4</td>\n",
       "      <td>12.9</td>\n",
       "    </tr>\n",
       "    <tr>\n",
       "      <th>...</th>\n",
       "      <td>...</td>\n",
       "      <td>...</td>\n",
       "      <td>...</td>\n",
       "      <td>...</td>\n",
       "      <td>...</td>\n",
       "    </tr>\n",
       "    <tr>\n",
       "      <th>193</th>\n",
       "      <td>195</td>\n",
       "      <td>38.2</td>\n",
       "      <td>3.7</td>\n",
       "      <td>13.8</td>\n",
       "      <td>7.6</td>\n",
       "    </tr>\n",
       "    <tr>\n",
       "      <th>194</th>\n",
       "      <td>196</td>\n",
       "      <td>94.2</td>\n",
       "      <td>4.9</td>\n",
       "      <td>8.1</td>\n",
       "      <td>9.7</td>\n",
       "    </tr>\n",
       "    <tr>\n",
       "      <th>195</th>\n",
       "      <td>197</td>\n",
       "      <td>177.0</td>\n",
       "      <td>9.3</td>\n",
       "      <td>6.4</td>\n",
       "      <td>12.8</td>\n",
       "    </tr>\n",
       "    <tr>\n",
       "      <th>196</th>\n",
       "      <td>198</td>\n",
       "      <td>283.6</td>\n",
       "      <td>42.0</td>\n",
       "      <td>66.2</td>\n",
       "      <td>25.5</td>\n",
       "    </tr>\n",
       "    <tr>\n",
       "      <th>197</th>\n",
       "      <td>199</td>\n",
       "      <td>232.1</td>\n",
       "      <td>8.6</td>\n",
       "      <td>8.7</td>\n",
       "      <td>13.4</td>\n",
       "    </tr>\n",
       "  </tbody>\n",
       "</table>\n",
       "<p>198 rows × 5 columns</p>\n",
       "</div>"
      ],
      "text/plain": [
       "     index     TV  radio  newspaper  sales\n",
       "0        0  230.1   37.8       69.2   22.1\n",
       "1        1   44.5   39.3       45.1   10.4\n",
       "2        2   17.2   45.9       69.3    9.3\n",
       "3        3  151.5   41.3       58.5   18.5\n",
       "4        4  180.8   10.8       58.4   12.9\n",
       "..     ...    ...    ...        ...    ...\n",
       "193    195   38.2    3.7       13.8    7.6\n",
       "194    196   94.2    4.9        8.1    9.7\n",
       "195    197  177.0    9.3        6.4   12.8\n",
       "196    198  283.6   42.0       66.2   25.5\n",
       "197    199  232.1    8.6        8.7   13.4\n",
       "\n",
       "[198 rows x 5 columns]"
      ]
     },
     "execution_count": 28,
     "metadata": {},
     "output_type": "execute_result"
    }
   ],
   "source": [
    "df_out.reset_index()"
   ]
  },
  {
   "cell_type": "code",
   "execution_count": 29,
   "id": "230f47b3",
   "metadata": {},
   "outputs": [
    {
     "data": {
      "text/plain": [
       "TV          -0.082332\n",
       "radio        0.114842\n",
       "newspaper    0.650112\n",
       "sales        0.407130\n",
       "dtype: float64"
      ]
     },
     "execution_count": 29,
     "metadata": {},
     "output_type": "execute_result"
    }
   ],
   "source": [
    "df_out.skew()"
   ]
  },
  {
   "cell_type": "code",
   "execution_count": 30,
   "id": "f51c21df",
   "metadata": {},
   "outputs": [],
   "source": [
    "new_df=df_out.iloc[: ,:-1]\n",
    "y=df_out.iloc[: ,-1]\n"
   ]
  },
  {
   "cell_type": "markdown",
   "id": "05e0b96c",
   "metadata": {},
   "source": [
    "# Scaling Data"
   ]
  },
  {
   "cell_type": "code",
   "execution_count": 31,
   "id": "d865716b",
   "metadata": {},
   "outputs": [
    {
     "data": {
      "text/html": [
       "<div>\n",
       "<style scoped>\n",
       "    .dataframe tbody tr th:only-of-type {\n",
       "        vertical-align: middle;\n",
       "    }\n",
       "\n",
       "    .dataframe tbody tr th {\n",
       "        vertical-align: top;\n",
       "    }\n",
       "\n",
       "    .dataframe thead th {\n",
       "        text-align: right;\n",
       "    }\n",
       "</style>\n",
       "<table border=\"1\" class=\"dataframe\">\n",
       "  <thead>\n",
       "    <tr style=\"text-align: right;\">\n",
       "      <th></th>\n",
       "      <th>TV</th>\n",
       "      <th>radio</th>\n",
       "      <th>newspaper</th>\n",
       "    </tr>\n",
       "  </thead>\n",
       "  <tbody>\n",
       "    <tr>\n",
       "      <th>0</th>\n",
       "      <td>0.978697</td>\n",
       "      <td>0.989521</td>\n",
       "      <td>1.932998</td>\n",
       "    </tr>\n",
       "    <tr>\n",
       "      <th>1</th>\n",
       "      <td>-1.199012</td>\n",
       "      <td>1.090705</td>\n",
       "      <td>0.751313</td>\n",
       "    </tr>\n",
       "    <tr>\n",
       "      <th>2</th>\n",
       "      <td>-1.519332</td>\n",
       "      <td>1.535913</td>\n",
       "      <td>1.937901</td>\n",
       "    </tr>\n",
       "    <tr>\n",
       "      <th>3</th>\n",
       "      <td>0.056456</td>\n",
       "      <td>1.225616</td>\n",
       "      <td>1.408349</td>\n",
       "    </tr>\n",
       "    <tr>\n",
       "      <th>4</th>\n",
       "      <td>0.400243</td>\n",
       "      <td>-0.831784</td>\n",
       "      <td>1.403446</td>\n",
       "    </tr>\n",
       "    <tr>\n",
       "      <th>...</th>\n",
       "      <td>...</td>\n",
       "      <td>...</td>\n",
       "      <td>...</td>\n",
       "    </tr>\n",
       "    <tr>\n",
       "      <th>193</th>\n",
       "      <td>-1.272932</td>\n",
       "      <td>-1.310720</td>\n",
       "      <td>-0.783407</td>\n",
       "    </tr>\n",
       "    <tr>\n",
       "      <th>194</th>\n",
       "      <td>-0.615864</td>\n",
       "      <td>-1.229773</td>\n",
       "      <td>-1.062892</td>\n",
       "    </tr>\n",
       "    <tr>\n",
       "      <th>195</th>\n",
       "      <td>0.355657</td>\n",
       "      <td>-0.932968</td>\n",
       "      <td>-1.146248</td>\n",
       "    </tr>\n",
       "    <tr>\n",
       "      <th>196</th>\n",
       "      <td>1.606431</td>\n",
       "      <td>1.272836</td>\n",
       "      <td>1.785900</td>\n",
       "    </tr>\n",
       "    <tr>\n",
       "      <th>197</th>\n",
       "      <td>1.002164</td>\n",
       "      <td>-0.980187</td>\n",
       "      <td>-1.033473</td>\n",
       "    </tr>\n",
       "  </tbody>\n",
       "</table>\n",
       "<p>198 rows × 3 columns</p>\n",
       "</div>"
      ],
      "text/plain": [
       "           TV     radio  newspaper\n",
       "0    0.978697  0.989521   1.932998\n",
       "1   -1.199012  1.090705   0.751313\n",
       "2   -1.519332  1.535913   1.937901\n",
       "3    0.056456  1.225616   1.408349\n",
       "4    0.400243 -0.831784   1.403446\n",
       "..        ...       ...        ...\n",
       "193 -1.272932 -1.310720  -0.783407\n",
       "194 -0.615864 -1.229773  -1.062892\n",
       "195  0.355657 -0.932968  -1.146248\n",
       "196  1.606431  1.272836   1.785900\n",
       "197  1.002164 -0.980187  -1.033473\n",
       "\n",
       "[198 rows x 3 columns]"
      ]
     },
     "execution_count": 31,
     "metadata": {},
     "output_type": "execute_result"
    }
   ],
   "source": [
    "std=StandardScaler()\n",
    "std_scaled=std.fit_transform(new_df)\n",
    "x_scaled=pd.DataFrame(std_scaled,columns=new_df.columns)\n",
    "x_scaled"
   ]
  },
  {
   "cell_type": "code",
   "execution_count": 32,
   "id": "edd781f3",
   "metadata": {},
   "outputs": [
    {
     "data": {
      "text/plain": [
       "<AxesSubplot:>"
      ]
     },
     "execution_count": 32,
     "metadata": {},
     "output_type": "execute_result"
    },
    {
     "data": {
      "image/png": "[encoded data removed]",
      "text/plain": [
       "<Figure size 576x288 with 2 Axes>"
      ]
     },
     "metadata": {
      "needs_background": "light"
     },
     "output_type": "display_data"
    }
   ],
   "source": [
    "plt.figure(figsize=(8,4))\n",
    "sns.heatmap(x_scaled.corr(),annot=True)"
   ]
  },
  {
   "cell_type": "markdown",
   "id": "7fd87295",
   "metadata": {},
   "source": [
    "# Finding Best Random State"
   ]
  },
  {
   "cell_type": "code",
   "execution_count": 33,
   "id": "ce01da52",
   "metadata": {},
   "outputs": [
    {
     "name": "stdout",
     "output_type": "stream",
     "text": [
      "At random state  0 the training accuracy is:-  0.8810539797064412\n",
      "At random state  0 the testing accuracy is:- 0.9169198405610239\n",
      "\n",
      "\n",
      "At random state  1 the training accuracy is:-  0.8914052092368193\n",
      "At random state  1 the testing accuracy is:- 0.901590819258015\n",
      "\n",
      "\n",
      "At random state  2 the training accuracy is:-  0.914062166521022\n",
      "At random state  2 the testing accuracy is:- 0.8428698015955045\n",
      "\n",
      "\n",
      "At random state  3 the training accuracy is:-  0.885841774992629\n",
      "At random state  3 the testing accuracy is:- 0.9149570033494691\n",
      "\n",
      "\n",
      "At random state  4 the training accuracy is:-  0.9005093374961071\n",
      "At random state  4 the testing accuracy is:- 0.8621726482172966\n",
      "\n",
      "\n",
      "At random state  5 the training accuracy is:-  0.9002368728891074\n",
      "At random state  5 the testing accuracy is:- 0.8657156665982401\n",
      "\n",
      "\n",
      "At random state  6 the training accuracy is:-  0.8940891865124617\n",
      "At random state  6 the testing accuracy is:- 0.8929377262182756\n",
      "\n",
      "\n",
      "At random state  7 the training accuracy is:-  0.8913212594482884\n",
      "At random state  7 the testing accuracy is:- 0.9025909419887759\n",
      "\n",
      "\n",
      "At random state  8 the training accuracy is:-  0.9038492449486462\n",
      "At random state  8 the testing accuracy is:- 0.865029591633671\n",
      "\n",
      "\n",
      "At random state  9 the training accuracy is:-  0.8856986692132401\n",
      "At random state  9 the testing accuracy is:- 0.9188498439112269\n",
      "\n",
      "\n",
      "At random state  10 the training accuracy is:-  0.9241062893563661\n",
      "At random state  10 the testing accuracy is:- 0.7951173616742405\n",
      "\n",
      "\n",
      "At random state  11 the training accuracy is:-  0.876760874656774\n",
      "At random state  11 the testing accuracy is:- 0.9289103750473017\n",
      "\n",
      "\n",
      "At random state  12 the training accuracy is:-  0.8931578407707009\n",
      "At random state  12 the testing accuracy is:- 0.89973353302668\n",
      "\n",
      "\n",
      "At random state  13 the training accuracy is:-  0.9060765469082515\n",
      "At random state  13 the testing accuracy is:- 0.8561689920266639\n",
      "\n",
      "\n",
      "At random state  14 the training accuracy is:-  0.885721801457783\n",
      "At random state  14 the testing accuracy is:- 0.9108282387120527\n",
      "\n",
      "\n",
      "At random state  15 the training accuracy is:-  0.8949681184849285\n",
      "At random state  15 the testing accuracy is:- 0.8884316700228988\n",
      "\n",
      "\n",
      "At random state  16 the training accuracy is:-  0.8933835577571034\n",
      "At random state  16 the testing accuracy is:- 0.8975078269869033\n",
      "\n",
      "\n",
      "At random state  17 the training accuracy is:-  0.8855265607362957\n",
      "At random state  17 the testing accuracy is:- 0.9170206452931521\n",
      "\n",
      "\n",
      "At random state  18 the training accuracy is:-  0.9082127846838537\n",
      "At random state  18 the testing accuracy is:- 0.8534437017901121\n",
      "\n",
      "\n",
      "At random state  19 the training accuracy is:-  0.8954406938458388\n",
      "At random state  19 the testing accuracy is:- 0.879379645645238\n",
      "\n",
      "\n",
      "At random state  20 the training accuracy is:-  0.8870988181914187\n",
      "At random state  20 the testing accuracy is:- 0.9095782935285905\n",
      "\n",
      "\n",
      "At random state  21 the training accuracy is:-  0.8825512746017693\n",
      "At random state  21 the testing accuracy is:- 0.9262002210878196\n",
      "\n",
      "\n",
      "At random state  22 the training accuracy is:-  0.8876396895290157\n",
      "At random state  22 the testing accuracy is:- 0.9141547275883324\n",
      "\n",
      "\n",
      "At random state  23 the training accuracy is:-  0.885419524102501\n",
      "At random state  23 the testing accuracy is:- 0.9237665796289405\n",
      "\n",
      "\n",
      "At random state  24 the training accuracy is:-  0.8866118542113203\n",
      "At random state  24 the testing accuracy is:- 0.9192085343374117\n",
      "\n",
      "\n",
      "At random state  25 the training accuracy is:-  0.8873907302261678\n",
      "At random state  25 the testing accuracy is:- 0.9197578194342941\n",
      "\n",
      "\n",
      "At random state  26 the training accuracy is:-  0.9018359916635901\n",
      "At random state  26 the testing accuracy is:- 0.8603287483245744\n",
      "\n",
      "\n",
      "At random state  27 the training accuracy is:-  0.9075654630635709\n",
      "At random state  27 the testing accuracy is:- 0.8491594088703343\n",
      "\n",
      "\n",
      "At random state  28 the training accuracy is:-  0.91389230092298\n",
      "At random state  28 the testing accuracy is:- 0.8403271367654539\n",
      "\n",
      "\n",
      "At random state  29 the training accuracy is:-  0.9030306028389002\n",
      "At random state  29 the testing accuracy is:- 0.8704207414798623\n",
      "\n",
      "\n",
      "At random state  30 the training accuracy is:-  0.9070776141077194\n",
      "At random state  30 the testing accuracy is:- 0.86189697646848\n",
      "\n",
      "\n",
      "At random state  31 the training accuracy is:-  0.8839752333246071\n",
      "At random state  31 the testing accuracy is:- 0.9173910496155671\n",
      "\n",
      "\n",
      "At random state  32 the training accuracy is:-  0.8778166788492068\n",
      "At random state  32 the testing accuracy is:- 0.9305643964367929\n",
      "\n",
      "\n",
      "At random state  33 the training accuracy is:-  0.8871101183714359\n",
      "At random state  33 the testing accuracy is:- 0.9110577814616807\n",
      "\n",
      "\n",
      "At random state  34 the training accuracy is:-  0.892823480554173\n",
      "At random state  34 the testing accuracy is:- 0.8992899198315182\n",
      "\n",
      "\n",
      "At random state  35 the training accuracy is:-  0.8878040826870547\n",
      "At random state  35 the testing accuracy is:- 0.9139045253711834\n",
      "\n",
      "\n",
      "At random state  36 the training accuracy is:-  0.8856647133422302\n",
      "At random state  36 the testing accuracy is:- 0.9178882198557765\n",
      "\n",
      "\n",
      "At random state  37 the training accuracy is:-  0.8921157480569006\n",
      "At random state  37 the testing accuracy is:- 0.9088593952519426\n",
      "\n",
      "\n",
      "At random state  38 the training accuracy is:-  0.8957621207689871\n",
      "At random state  38 the testing accuracy is:- 0.8919120015425293\n",
      "\n",
      "\n",
      "At random state  39 the training accuracy is:-  0.9209006342608599\n",
      "At random state  39 the testing accuracy is:- 0.8202179632118625\n",
      "\n",
      "\n",
      "At random state  40 the training accuracy is:-  0.8970884523864686\n",
      "At random state  40 the testing accuracy is:- 0.8790382810696\n",
      "\n",
      "\n",
      "At random state  41 the training accuracy is:-  0.8952819860406261\n",
      "At random state  41 the testing accuracy is:- 0.8883448572546557\n",
      "\n",
      "\n",
      "At random state  42 the training accuracy is:-  0.8965725335855812\n",
      "At random state  42 the testing accuracy is:- 0.8798818054597369\n",
      "\n",
      "\n",
      "At random state  43 the training accuracy is:-  0.9023105405049009\n",
      "At random state  43 the testing accuracy is:- 0.8734797346070337\n",
      "\n",
      "\n",
      "At random state  44 the training accuracy is:-  0.9072876689226178\n",
      "At random state  44 the testing accuracy is:- 0.7870311436238406\n",
      "\n",
      "\n",
      "At random state  45 the training accuracy is:-  0.8866608742386284\n",
      "At random state  45 the testing accuracy is:- 0.9195045683729378\n",
      "\n",
      "\n",
      "At random state  46 the training accuracy is:-  0.8940264579404555\n",
      "At random state  46 the testing accuracy is:- 0.8965504727216232\n",
      "\n",
      "\n",
      "At random state  47 the training accuracy is:-  0.8949789107594806\n",
      "At random state  47 the testing accuracy is:- 0.8864837353210118\n",
      "\n",
      "\n",
      "At random state  48 the training accuracy is:-  0.9083369215302286\n",
      "At random state  48 the testing accuracy is:- 0.8454657618075954\n",
      "\n",
      "\n",
      "At random state  49 the training accuracy is:-  0.9119605638523443\n",
      "At random state  49 the testing accuracy is:- 0.8356465745966288\n",
      "\n",
      "\n",
      "At random state  50 the training accuracy is:-  0.8989655485746761\n",
      "At random state  50 the testing accuracy is:- 0.8700877377785489\n",
      "\n",
      "\n",
      "At random state  51 the training accuracy is:-  0.8933239500998784\n",
      "At random state  51 the testing accuracy is:- 0.8946667710464431\n",
      "\n",
      "\n",
      "At random state  52 the training accuracy is:-  0.8959342954096137\n",
      "At random state  52 the testing accuracy is:- 0.883574310150907\n",
      "\n",
      "\n",
      "At random state  53 the training accuracy is:-  0.9107822708734491\n",
      "At random state  53 the testing accuracy is:- 0.8378538876160282\n",
      "\n",
      "\n",
      "At random state  54 the training accuracy is:-  0.901740485357992\n",
      "At random state  54 the testing accuracy is:- 0.8710172289243905\n",
      "\n",
      "\n",
      "At random state  55 the training accuracy is:-  0.8948138297171151\n",
      "At random state  55 the testing accuracy is:- 0.8932520941388606\n",
      "\n",
      "\n",
      "At random state  56 the training accuracy is:-  0.9021179084681006\n",
      "At random state  56 the testing accuracy is:- 0.86823010938707\n",
      "\n",
      "\n",
      "At random state  57 the training accuracy is:-  0.9052058286121734\n",
      "At random state  57 the testing accuracy is:- 0.8672472965889801\n",
      "\n",
      "\n",
      "At random state  58 the training accuracy is:-  0.88842242944722\n",
      "At random state  58 the testing accuracy is:- 0.9108186877137611\n",
      "\n",
      "\n",
      "At random state  59 the training accuracy is:-  0.8820763844286946\n",
      "At random state  59 the testing accuracy is:- 0.9272958971459214\n",
      "\n",
      "\n",
      "At random state  60 the training accuracy is:-  0.8934849869367317\n",
      "At random state  60 the testing accuracy is:- 0.8929128639103951\n",
      "\n",
      "\n",
      "At random state  61 the training accuracy is:-  0.9036663153158656\n",
      "At random state  61 the testing accuracy is:- 0.8647928397335941\n",
      "\n",
      "\n",
      "At random state  62 the training accuracy is:-  0.9004229423535045\n",
      "At random state  62 the testing accuracy is:- 0.8660536864070902\n",
      "\n",
      "\n",
      "At random state  63 the training accuracy is:-  0.8982854441536255\n",
      "At random state  63 the testing accuracy is:- 0.8822170291359196\n",
      "\n",
      "\n",
      "At random state  64 the training accuracy is:-  0.8901737252006487\n",
      "At random state  64 the testing accuracy is:- 0.9069822319239803\n",
      "\n",
      "\n",
      "At random state  65 the training accuracy is:-  0.899291414566941\n",
      "At random state  65 the testing accuracy is:- 0.8831360853301763\n",
      "\n",
      "\n",
      "At random state  66 the training accuracy is:-  0.8980925381757549\n",
      "At random state  66 the testing accuracy is:- 0.8868037093740212\n",
      "\n",
      "\n",
      "At random state  67 the training accuracy is:-  0.9100645257473602\n",
      "At random state  67 the testing accuracy is:- 0.8337986432139308\n",
      "\n",
      "\n",
      "At random state  68 the training accuracy is:-  0.9074294677620635\n",
      "At random state  68 the testing accuracy is:- 0.8542971536427751\n",
      "\n",
      "\n",
      "At random state  69 the training accuracy is:-  0.8905145303450618\n",
      "At random state  69 the testing accuracy is:- 0.9067897211031279\n",
      "\n",
      "\n",
      "At random state  70 the training accuracy is:-  0.8814142066332283\n",
      "At random state  70 the testing accuracy is:- 0.9233616021770836\n",
      "\n",
      "\n",
      "At random state  71 the training accuracy is:-  0.904499066311255\n",
      "At random state  71 the testing accuracy is:- 0.8613631208154039\n",
      "\n",
      "\n",
      "At random state  72 the training accuracy is:-  0.8917000256346639\n",
      "At random state  72 the testing accuracy is:- 0.9009699175615795\n",
      "\n",
      "\n",
      "At random state  73 the training accuracy is:-  0.9070506621422163\n",
      "At random state  73 the testing accuracy is:- 0.8282208002587313\n",
      "\n",
      "\n",
      "At random state  74 the training accuracy is:-  0.8717514344896877\n",
      "At random state  74 the testing accuracy is:- 0.9299634470872307\n",
      "\n",
      "\n",
      "At random state  75 the training accuracy is:-  0.8956871054772689\n",
      "At random state  75 the testing accuracy is:- 0.8702367654314428\n",
      "\n",
      "\n",
      "At random state  76 the training accuracy is:-  0.907090012654218\n",
      "At random state  76 the testing accuracy is:- 0.8435735173492058\n",
      "\n",
      "\n",
      "At random state  77 the training accuracy is:-  0.8937974483260736\n",
      "At random state  77 the testing accuracy is:- 0.8940732658149241\n",
      "\n",
      "\n",
      "At random state  78 the training accuracy is:-  0.9145745709401826\n",
      "At random state  78 the testing accuracy is:- 0.8021797648617452\n",
      "\n",
      "\n",
      "At random state  79 the training accuracy is:-  0.8895858208396461\n",
      "At random state  79 the testing accuracy is:- 0.9051409617524319\n",
      "\n",
      "\n",
      "At random state  80 the training accuracy is:-  0.9090667036700861\n",
      "At random state  80 the testing accuracy is:- 0.8529870656007774\n",
      "\n",
      "\n",
      "At random state  81 the training accuracy is:-  0.88496578381988\n",
      "At random state  81 the testing accuracy is:- 0.9196747975044504\n",
      "\n",
      "\n",
      "At random state  82 the training accuracy is:-  0.9080803712794285\n",
      "At random state  82 the testing accuracy is:- 0.8464888729256469\n",
      "\n",
      "\n",
      "At random state  83 the training accuracy is:-  0.8974643554222185\n",
      "At random state  83 the testing accuracy is:- 0.8872260883091607\n",
      "\n",
      "\n",
      "At random state  84 the training accuracy is:-  0.8795687838867422\n",
      "At random state  84 the testing accuracy is:- 0.933453888410971\n",
      "\n",
      "\n",
      "At random state  85 the training accuracy is:-  0.9104066217287404\n",
      "At random state  85 the testing accuracy is:- 0.8059624873315542\n",
      "\n",
      "\n",
      "At random state  86 the training accuracy is:-  0.8921940716329879\n",
      "At random state  86 the testing accuracy is:- 0.9034644313660974\n",
      "\n",
      "\n",
      "At random state  87 the training accuracy is:-  0.9067047219710271\n",
      "At random state  87 the testing accuracy is:- 0.8600105671818679\n",
      "\n",
      "\n",
      "At random state  88 the training accuracy is:-  0.8940023526381554\n",
      "At random state  88 the testing accuracy is:- 0.8986039710624292\n",
      "\n",
      "\n",
      "At random state  89 the training accuracy is:-  0.9067009932967101\n",
      "At random state  89 the testing accuracy is:- 0.8325093879270801\n",
      "\n",
      "\n",
      "At random state  90 the training accuracy is:-  0.8766973467277426\n",
      "At random state  90 the testing accuracy is:- 0.9450468735016785\n",
      "\n",
      "\n",
      "At random state  91 the training accuracy is:-  0.8981772376795876\n",
      "At random state  91 the testing accuracy is:- 0.8755646443272793\n",
      "\n",
      "\n",
      "At random state  92 the training accuracy is:-  0.8907607544863373\n",
      "At random state  92 the testing accuracy is:- 0.9006518111201519\n",
      "\n",
      "\n",
      "At random state  93 the training accuracy is:-  0.9106603302133331\n",
      "At random state  93 the testing accuracy is:- 0.8432429767116516\n",
      "\n",
      "\n",
      "At random state  94 the training accuracy is:-  0.9059337639580862\n",
      "At random state  94 the testing accuracy is:- 0.8681086266444902\n",
      "\n",
      "\n",
      "At random state  95 the training accuracy is:-  0.9046877378354445\n",
      "At random state  95 the testing accuracy is:- 0.8597598249404447\n",
      "\n",
      "\n",
      "At random state  96 the training accuracy is:-  0.8988704396456592\n",
      "At random state  96 the testing accuracy is:- 0.8792353196654474\n",
      "\n",
      "\n",
      "At random state  97 the training accuracy is:-  0.890168392467765\n",
      "At random state  97 the testing accuracy is:- 0.9083151937834543\n",
      "\n",
      "\n",
      "At random state  98 the training accuracy is:-  0.9116871828823891\n",
      "At random state  98 the testing accuracy is:- 0.8375395249336522\n",
      "\n",
      "\n",
      "At random state  99 the training accuracy is:-  0.8845113697646669\n",
      "At random state  99 the testing accuracy is:- 0.9214648818321177\n",
      "\n",
      "\n",
      "At random state  100 the training accuracy is:-  0.9027503624724589\n",
      "At random state  100 the testing accuracy is:- 0.8698562812904092\n",
      "\n",
      "\n",
      "At random state  101 the training accuracy is:-  0.8968146768952744\n",
      "At random state  101 the testing accuracy is:- 0.8875849003193559\n",
      "\n",
      "\n",
      "At random state  102 the training accuracy is:-  0.8851984508016533\n",
      "At random state  102 the testing accuracy is:- 0.9131660846572104\n",
      "\n",
      "\n",
      "At random state  103 the training accuracy is:-  0.9015167020775255\n",
      "At random state  103 the testing accuracy is:- 0.8749449205117612\n",
      "\n",
      "\n",
      "At random state  104 the training accuracy is:-  0.9163884311732312\n",
      "At random state  104 the testing accuracy is:- 0.8249014675240233\n",
      "\n",
      "\n",
      "At random state  105 the training accuracy is:-  0.9000431636552962\n",
      "At random state  105 the testing accuracy is:- 0.8710137467009571\n",
      "\n",
      "\n",
      "At random state  106 the training accuracy is:-  0.8946152460451686\n",
      "At random state  106 the testing accuracy is:- 0.8954413715654033\n",
      "\n",
      "\n",
      "At random state  107 the training accuracy is:-  0.9128572263000482\n",
      "At random state  107 the testing accuracy is:- 0.8403979669200672\n",
      "\n",
      "\n",
      "At random state  108 the training accuracy is:-  0.8970761423033432\n",
      "At random state  108 the testing accuracy is:- 0.8823590800472185\n",
      "\n",
      "\n",
      "At random state  109 the training accuracy is:-  0.8941651197498414\n",
      "At random state  109 the testing accuracy is:- 0.8905567725358047\n",
      "\n",
      "\n",
      "At random state  110 the training accuracy is:-  0.8910370054580621\n",
      "At random state  110 the testing accuracy is:- 0.9051474891655926\n",
      "\n",
      "\n",
      "At random state  111 the training accuracy is:-  0.9043273658466613\n",
      "At random state  111 the testing accuracy is:- 0.8678878487882387\n",
      "\n",
      "\n",
      "At random state  112 the training accuracy is:-  0.886992642745588\n",
      "At random state  112 the testing accuracy is:- 0.8995075619548245\n",
      "\n",
      "\n",
      "At random state  113 the training accuracy is:-  0.9132560230639123\n",
      "At random state  113 the testing accuracy is:- 0.83662232366534\n",
      "\n",
      "\n",
      "At random state  114 the training accuracy is:-  0.8836970227237094\n",
      "At random state  114 the testing accuracy is:- 0.9248375023964739\n",
      "\n",
      "\n",
      "At random state  115 the training accuracy is:-  0.8866861905815957\n",
      "At random state  115 the testing accuracy is:- 0.9225205396357459\n",
      "\n",
      "\n",
      "At random state  116 the training accuracy is:-  0.8980945518210071\n",
      "At random state  116 the testing accuracy is:- 0.8847817777871347\n",
      "\n",
      "\n",
      "At random state  117 the training accuracy is:-  0.8881897505540794\n",
      "At random state  117 the testing accuracy is:- 0.914990974096584\n",
      "\n",
      "\n",
      "At random state  118 the training accuracy is:-  0.888374899875746\n",
      "At random state  118 the testing accuracy is:- 0.9135031096495144\n",
      "\n",
      "\n",
      "At random state  119 the training accuracy is:-  0.88886483370241\n",
      "At random state  119 the testing accuracy is:- 0.9082434608804685\n",
      "\n",
      "\n",
      "At random state  120 the training accuracy is:-  0.897975048995813\n",
      "At random state  120 the testing accuracy is:- 0.8842115875854624\n",
      "\n",
      "\n",
      "At random state  121 the training accuracy is:-  0.9171143312028792\n",
      "At random state  121 the testing accuracy is:- 0.7808555722261143\n",
      "\n",
      "\n",
      "At random state  122 the training accuracy is:-  0.8983181419185199\n",
      "At random state  122 the testing accuracy is:- 0.8796277478906201\n",
      "\n",
      "\n",
      "At random state  123 the training accuracy is:-  0.9101514422253288\n",
      "At random state  123 the testing accuracy is:- 0.8328272728706335\n",
      "\n",
      "\n",
      "At random state  124 the training accuracy is:-  0.895339082508921\n",
      "At random state  124 the testing accuracy is:- 0.8945353909056808\n",
      "\n",
      "\n",
      "At random state  125 the training accuracy is:-  0.899106863796617\n",
      "At random state  125 the testing accuracy is:- 0.8689248204930669\n",
      "\n",
      "\n",
      "At random state  126 the training accuracy is:-  0.9117338507939476\n",
      "At random state  126 the testing accuracy is:- 0.8444859504045406\n",
      "\n",
      "\n",
      "At random state  127 the training accuracy is:-  0.9009592903600957\n",
      "At random state  127 the testing accuracy is:- 0.8493110663742762\n",
      "\n",
      "\n",
      "At random state  128 the training accuracy is:-  0.9069711083949652\n",
      "At random state  128 the testing accuracy is:- 0.8601773522161227\n",
      "\n",
      "\n",
      "At random state  129 the training accuracy is:-  0.8944638713165604\n",
      "At random state  129 the testing accuracy is:- 0.8944918469099302\n",
      "\n",
      "\n",
      "At random state  130 the training accuracy is:-  0.8907689870740304\n",
      "At random state  130 the testing accuracy is:- 0.9067314268249032\n",
      "\n",
      "\n",
      "At random state  131 the training accuracy is:-  0.8969340527780135\n",
      "At random state  131 the testing accuracy is:- 0.8851269153351933\n",
      "\n",
      "\n",
      "At random state  132 the training accuracy is:-  0.8980236076352061\n",
      "At random state  132 the testing accuracy is:- 0.8843572676160673\n",
      "\n",
      "\n",
      "At random state  133 the training accuracy is:-  0.9048355766453572\n",
      "At random state  133 the testing accuracy is:- 0.8596918637167861\n",
      "\n",
      "\n",
      "At random state  134 the training accuracy is:-  0.9041986265968545\n",
      "At random state  134 the testing accuracy is:- 0.8698550622036293\n",
      "\n",
      "\n",
      "At random state  135 the training accuracy is:-  0.8812856680678581\n",
      "At random state  135 the testing accuracy is:- 0.913905805140085\n",
      "\n",
      "\n",
      "At random state  136 the training accuracy is:-  0.8991442759657112\n",
      "At random state  136 the testing accuracy is:- 0.8751069750878262\n",
      "\n",
      "\n",
      "At random state  137 the training accuracy is:-  0.8941779546240871\n",
      "At random state  137 the testing accuracy is:- 0.8967431065094648\n",
      "\n",
      "\n",
      "At random state  138 the training accuracy is:-  0.8899964399522753\n",
      "At random state  138 the testing accuracy is:- 0.9082359766662544\n",
      "\n",
      "\n",
      "At random state  139 the training accuracy is:-  0.8795373534315053\n",
      "At random state  139 the testing accuracy is:- 0.929193825868339\n",
      "\n",
      "\n",
      "At random state  140 the training accuracy is:-  0.8933329893515417\n",
      "At random state  140 the testing accuracy is:- 0.8962271877321415\n",
      "\n",
      "\n",
      "At random state  141 the training accuracy is:-  0.8881275890597646\n",
      "At random state  141 the testing accuracy is:- 0.9101064040597534\n",
      "\n",
      "\n",
      "At random state  142 the training accuracy is:-  0.8901482754721818\n",
      "At random state  142 the testing accuracy is:- 0.9050873068842897\n",
      "\n",
      "\n",
      "At random state  143 the training accuracy is:-  0.8839995541165973\n",
      "At random state  143 the testing accuracy is:- 0.9241194936920328\n",
      "\n",
      "\n",
      "At random state  144 the training accuracy is:-  0.9027898834551534\n",
      "At random state  144 the testing accuracy is:- 0.8445192134224352\n",
      "\n",
      "\n",
      "At random state  145 the training accuracy is:-  0.8936220912685464\n",
      "At random state  145 the testing accuracy is:- 0.8929163620030934\n",
      "\n",
      "\n",
      "At random state  146 the training accuracy is:-  0.893525485324145\n",
      "At random state  146 the testing accuracy is:- 0.9023138538839155\n",
      "\n",
      "\n",
      "At random state  147 the training accuracy is:-  0.9010633200386925\n",
      "At random state  147 the testing accuracy is:- 0.8622648498211261\n",
      "\n",
      "\n",
      "At random state  148 the training accuracy is:-  0.9124338300888162\n",
      "At random state  148 the testing accuracy is:- 0.8424235686216396\n",
      "\n",
      "\n",
      "At random state  149 the training accuracy is:-  0.9191162832652089\n",
      "At random state  149 the testing accuracy is:- 0.8125267452947138\n",
      "\n",
      "\n"
     ]
    }
   ],
   "source": [
    "\n",
    "for i in range(150):\n",
    "    x_train,x_test,y_train,y_test=train_test_split(x_scaled,y,test_size=0.25,random_state=i)\n",
    "    lr=LinearRegression()\n",
    "    lr.fit(x_train,y_train)\n",
    "    pred_train=lr.predict(x_train)\n",
    "    pred_test=lr.predict(x_test)\n",
    "    \n",
    "    score=lr.score(x_test,pred_test)\n",
    "    \n",
    "    \n",
    "    print(\"At random state \",i,\"the training accuracy is:- \",r2_score(y_train,pred_train))\n",
    "    print(\"At random state \",i,\"the testing accuracy is:-\",r2_score(y_test,pred_test))\n",
    "    print(\"\\n\")\n",
    "    \n",
    "    "
   ]
  },
  {
   "cell_type": "code",
   "execution_count": 34,
   "id": "71b8ae5b",
   "metadata": {},
   "outputs": [
    {
     "name": "stdout",
     "output_type": "stream",
     "text": [
      "Best Random State= 149  and Score of LR MODEL :  100.0\n"
     ]
    }
   ],
   "source": [
    "max_score=0\n",
    "randomstate=0\n",
    "if score>max_score:\n",
    "    max_score = score\n",
    "    randomstate  = i\n",
    "print( 'Best Random State=',randomstate,' and Score of LR MODEL : ',max_score*100)"
   ]
  },
  {
   "cell_type": "markdown",
   "id": "38c4d7a2",
   "metadata": {},
   "source": [
    "# Module Building"
   ]
  },
  {
   "cell_type": "markdown",
   "id": "d8a4854e",
   "metadata": {},
   "source": [
    "# LinearRegressor()"
   ]
  },
  {
   "cell_type": "code",
   "execution_count": 35,
   "id": "4c769bb8",
   "metadata": {},
   "outputs": [
    {
     "data": {
      "text/plain": [
       "0.8125267452947138"
      ]
     },
     "execution_count": 35,
     "metadata": {},
     "output_type": "execute_result"
    }
   ],
   "source": [
    "x_train,x_test,y_train,y_test=train_test_split(x_scaled,y,test_size=0.25,random_state=149)\n",
    "lr=LinearRegression()\n",
    "lr.fit(x_train,y_train)\n",
    "pred=lr.predict(x_test)\n",
    "r2=r2_score(y_test,pred)\n",
    "r2"
   ]
  },
  {
   "cell_type": "markdown",
   "id": "80f44ba6",
   "metadata": {},
   "source": [
    "# Cross Validation score"
   ]
  },
  {
   "cell_type": "code",
   "execution_count": 36,
   "id": "95771244",
   "metadata": {},
   "outputs": [
    {
     "name": "stdout",
     "output_type": "stream",
     "text": [
      "At cross fold  2 cv score is  0.8886177292201751\n",
      "and accuracy score for training 0.9191162832652089 and accuracy for the testing is  0.8125267452947138\n",
      "\n",
      "\n",
      "At cross fold  3 cv score is  0.8890406332045909\n",
      "and accuracy score for training 0.9191162832652089 and accuracy for the testing is  0.8125267452947138\n",
      "\n",
      "\n",
      "At cross fold  4 cv score is  0.8880501918930908\n",
      "and accuracy score for training 0.9191162832652089 and accuracy for the testing is  0.8125267452947138\n",
      "\n",
      "\n",
      "At cross fold  5 cv score is  0.8853605756683912\n",
      "and accuracy score for training 0.9191162832652089 and accuracy for the testing is  0.8125267452947138\n",
      "\n",
      "\n",
      "At cross fold  6 cv score is  0.8868174285063072\n",
      "and accuracy score for training 0.9191162832652089 and accuracy for the testing is  0.8125267452947138\n",
      "\n",
      "\n",
      "At cross fold  7 cv score is  0.883828289486476\n",
      "and accuracy score for training 0.9191162832652089 and accuracy for the testing is  0.8125267452947138\n",
      "\n",
      "\n",
      "At cross fold  8 cv score is  0.8880334554150218\n",
      "and accuracy score for training 0.9191162832652089 and accuracy for the testing is  0.8125267452947138\n",
      "\n",
      "\n",
      "At cross fold  9 cv score is  0.8810485430282272\n",
      "and accuracy score for training 0.9191162832652089 and accuracy for the testing is  0.8125267452947138\n",
      "\n",
      "\n"
     ]
    }
   ],
   "source": [
    "from sklearn.model_selection import cross_val_score\n",
    "\n",
    "Train_accuracy=r2_score(y_train,pred_train)\n",
    "Test_accuracy=r2_score(y_test,pred_test)\n",
    "\n",
    "for j in range(2,10):\n",
    "    cv_score=cross_val_score(lr,x_scaled,y,cv=j)\n",
    "    cv_mean=cv_score.mean()\n",
    "    print(\"At cross fold \",j, \"cv score is \",cv_mean)\n",
    "    print(\"and accuracy score for training\",Train_accuracy,\"and accuracy for the testing is \",Test_accuracy)\n",
    "    print(\"\\n\")"
   ]
  },
  {
   "cell_type": "markdown",
   "id": "74598124",
   "metadata": {},
   "source": [
    "# Plotting fitline between predicted and actual charges"
   ]
  },
  {
   "cell_type": "code",
   "execution_count": 37,
   "id": "7258f9f1",
   "metadata": {},
   "outputs": [
    {
     "data": {
      "image/png": "[encoded data removed]",
      "text/plain": [
       "<Figure size 576x432 with 1 Axes>"
      ]
     },
     "metadata": {
      "needs_background": "light"
     },
     "output_type": "display_data"
    }
   ],
   "source": [
    "plt.figure(figsize=(8,6))\n",
    "plt.scatter(x=y_test,y=pred_test,color='r')\n",
    "plt.plot(y_test,y_test,color='b')\n",
    "plt.xlabel('Actual charges',fontsize=14)\n",
    "plt.ylabel('Predicted charges',fontsize=14)\n",
    "plt.title('Linear Regression',fontsize=18)\n",
    "plt.show()"
   ]
  },
  {
   "cell_type": "markdown",
   "id": "15ff041a",
   "metadata": {},
   "source": [
    "# Hyperparameter tuning"
   ]
  },
  {
   "cell_type": "code",
   "execution_count": 38,
   "id": "dc72ce60",
   "metadata": {},
   "outputs": [
    {
     "name": "stdout",
     "output_type": "stream",
     "text": [
      "{'alpha': 0.1, 'random_state': 0}\n"
     ]
    }
   ],
   "source": [
    "from sklearn.linear_model import Lasso\n",
    "\n",
    "parameters={'alpha':[.0001,.001,.01,.1,1,10],'random_state':list(range(0,10))}\n",
    "ls=Lasso()\n",
    "clf=GridSearchCV(ls,parameters)\n",
    "clf.fit(x_train,y_train)\n",
    "\n",
    "print(clf.best_params_)"
   ]
  },
  {
   "cell_type": "markdown",
   "id": "3fd415ad",
   "metadata": {},
   "source": [
    "# Lasso Regression"
   ]
  },
  {
   "cell_type": "code",
   "execution_count": 39,
   "id": "e54205b5",
   "metadata": {},
   "outputs": [
    {
     "data": {
      "text/plain": [
       "0.8090524046169587"
      ]
     },
     "execution_count": 39,
     "metadata": {},
     "output_type": "execute_result"
    }
   ],
   "source": [
    "ls=Lasso(alpha=0.1,random_state=0)\n",
    "ls.fit(x_train,y_train)\n",
    "ls.score(x_train,y_train)\n",
    "pred_ls=ls.predict(x_test)\n",
    "\n",
    "lss=r2_score(y_test,pred_ls)\n",
    "lss"
   ]
  },
  {
   "cell_type": "markdown",
   "id": "953027f4",
   "metadata": {},
   "source": [
    "# Cross Validation score"
   ]
  },
  {
   "cell_type": "code",
   "execution_count": 40,
   "id": "aadfe212",
   "metadata": {},
   "outputs": [
    {
     "data": {
      "text/plain": [
       "0.8870590310349005"
      ]
     },
     "execution_count": 40,
     "metadata": {},
     "output_type": "execute_result"
    }
   ],
   "source": [
    "cv_score=cross_val_score(ls,x_scaled,y,cv=5)\n",
    "cv_mean=cv_score.mean()\n",
    "cv_mean"
   ]
  },
  {
   "cell_type": "markdown",
   "id": "c878bb20",
   "metadata": {},
   "source": [
    "# RandomForestRegressor()"
   ]
  },
  {
   "cell_type": "code",
   "execution_count": 41,
   "id": "1b1fbc3e",
   "metadata": {},
   "outputs": [
    {
     "name": "stdout",
     "output_type": "stream",
     "text": [
      "{'criterion': 'mae', 'max_features': 'auto'}\n"
     ]
    }
   ],
   "source": [
    "from sklearn.model_selection import GridSearchCV\n",
    "from sklearn.ensemble import RandomForestRegressor\n",
    "\n",
    "parameters= {'criterion':['mse','mae'],'max_features':['auto','sqrt','log2']}\n",
    "rf=RandomForestRegressor()\n",
    "clf=GridSearchCV(rf,parameters)\n",
    "clf.fit(x_train,y_train)\n",
    "\n",
    "print(clf.best_params_)"
   ]
  },
  {
   "cell_type": "code",
   "execution_count": 42,
   "id": "08baded0",
   "metadata": {},
   "outputs": [
    {
     "name": "stdout",
     "output_type": "stream",
     "text": [
      "R2 Score: 94.98034571808104\n",
      "Cross Val score:  97.65728886875931\n"
     ]
    }
   ],
   "source": [
    "rf=RandomForestRegressor(criterion='mae',max_features='auto')\n",
    "rf.fit(x_train,y_train)\n",
    "rf.score(x_train,y_train)\n",
    "pred_decision=rf.predict(x_test)\n",
    "rfs=r2_score(y_test,pred_decision)\n",
    "print('R2 Score:',rfs*100)\n",
    "\n",
    "rf_score=cross_val_score(rf,x_scaled,y,cv=5)\n",
    "rfc=rf_score.mean()\n",
    "print('Cross Val score: ',rfc*100)"
   ]
  },
  {
   "cell_type": "markdown",
   "id": "19d78bd3",
   "metadata": {},
   "source": [
    "# We are getting a best accuracy score of 95% and cross validation score 97.7%,which shows our model is performing extremely well."
   ]
  },
  {
   "cell_type": "markdown",
   "id": "371ce428",
   "metadata": {},
   "source": [
    "# Saving Module"
   ]
  },
  {
   "cell_type": "code",
   "execution_count": 43,
   "id": "8a515447",
   "metadata": {},
   "outputs": [],
   "source": [
    "import pickle\n",
    "filename='Sales.pkl'\n",
    "pickle.dump(rf,open(filename,'wb'))"
   ]
  },
  {
   "cell_type": "code",
   "execution_count": null,
   "id": "062e6be1",
   "metadata": {},
   "outputs": [],
   "source": []
  }
 ],
 "metadata": {
  "kernelspec": {
   "display_name": "Python 3 (ipykernel)",
   "language": "python",
   "name": "python3"
  },
  "language_info": {
   "codemirror_mode": {
    "name": "ipython",
    "version": 3
   },
   "file_extension": ".py",
   "mimetype": "text/x-python",
   "name": "python",
   "nbconvert_exporter": "python",
   "pygments_lexer": "ipython3",
   "version": "3.9.7"
  }
 },
 "nbformat": 4,
 "nbformat_minor": 5
}
